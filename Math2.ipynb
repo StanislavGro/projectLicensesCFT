{
  "nbformat": 4,
  "nbformat_minor": 0,
  "metadata": {
    "colab": {
      "name": "Math2.ipynb",
      "provenance": [],
      "collapsed_sections": [],
      "authorship_tag": "ABX9TyPU/YVrYE0/q/hA7mdGyV86",
      "include_colab_link": true
    },
    "kernelspec": {
      "name": "python3",
      "display_name": "Python 3"
    },
    "language_info": {
      "name": "python"
    }
  },
  "cells": [
    {
      "cell_type": "markdown",
      "metadata": {
        "id": "view-in-github",
        "colab_type": "text"
      },
      "source": [
        "<a href=\"https://colab.research.google.com/github/StanislavGro/projectLicensesCFT/blob/main/Math2.ipynb\" target=\"_parent\"><img src=\"https://colab.research.google.com/assets/colab-badge.svg\" alt=\"Open In Colab\"/></a>"
      ]
    },
    {
      "cell_type": "code",
      "execution_count": null,
      "metadata": {
        "id": "y09-xWp4bQnU"
      },
      "outputs": [],
      "source": [
        "from math import *"
      ]
    },
    {
      "cell_type": "code",
      "source": [
        "import matplotlib.pyplot as plt"
      ],
      "metadata": {
        "id": "tK_te8xhbVHR"
      },
      "execution_count": null,
      "outputs": []
    },
    {
      "cell_type": "code",
      "source": [
        "from sympy import *"
      ],
      "metadata": {
        "id": "DRQ7oL0WbXCf"
      },
      "execution_count": null,
      "outputs": []
    },
    {
      "cell_type": "code",
      "source": [
        "x = symbols('x')\n",
        "n = diff(sin(sqrt(1 - 0.04 * x ** 3)) - x)\n",
        "print(n)"
      ],
      "metadata": {
        "colab": {
          "base_uri": "https://localhost:8080/"
        },
        "id": "lw5Y1xFyhRv2",
        "outputId": "b6dc9db5-ecd6-4453-a997-b1f3d8c9635f"
      },
      "execution_count": null,
      "outputs": [
        {
          "output_type": "stream",
          "name": "stdout",
          "text": [
            "-0.06*x**2*cos(sqrt(1 - 0.04*x**3))/sqrt(1 - 0.04*x**3) - 1\n"
          ]
        }
      ]
    },
    {
      "cell_type": "code",
      "source": [
        "def new(x,e):\n",
        "  x1 = x - ((sin(sqrt(1 - 0.04 * x ** 3)) - x) / (-0.06*x**2*cos(sqrt(1 - 0.04*x**3))/sqrt(1 - 0.04*x**3) - 1))\n",
        "  if abs(x1 - x) > e:\n",
        "    x = x1\n",
        "    return new(x,e)\n",
        "  else:\n",
        "    print(x)\n",
        "new(1,0.01)"
      ],
      "metadata": {
        "colab": {
          "base_uri": "https://localhost:8080/"
        },
        "id": "guxmGD7FhiW-",
        "outputId": "f33f9145-de01-458f-dd23-8e52c31322bd"
      },
      "execution_count": 21,
      "outputs": [
        {
          "output_type": "stream",
          "name": "stdout",
          "text": [
            "0.835980168345038\n"
          ]
        }
      ]
    }
  ]
}