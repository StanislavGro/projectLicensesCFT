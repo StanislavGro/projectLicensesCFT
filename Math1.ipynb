{
  "cells": [
    {
      "cell_type": "markdown",
      "metadata": {
        "id": "view-in-github",
        "colab_type": "text"
      },
      "source": [
        "<a href=\"https://colab.research.google.com/github/StanislavGro/projectLicensesCFT/blob/main/Math1.ipynb\" target=\"_parent\"><img src=\"https://colab.research.google.com/assets/colab-badge.svg\" alt=\"Open In Colab\"/></a>"
      ]
    },
    {
      "cell_type": "code",
      "execution_count": 5,
      "metadata": {
        "id": "2UAiVJAD_JOo"
      },
      "outputs": [],
      "source": [
        "from math import *"
      ]
    },
    {
      "cell_type": "code",
      "source": [
        "import matplotlib.pyplot as plt"
      ],
      "metadata": {
        "id": "pydZEuq_YMnq"
      },
      "execution_count": 6,
      "outputs": []
    },
    {
      "cell_type": "code",
      "source": [
        "def horda(a,b, e):\n",
        "    if abs(b - a) > e:\n",
        "        c = a - ((b-a) / (sin(sqrt(1 - 0.04 * b ** 3)) - b -(sin(sqrt(1 - 0.04 * a ** 3)) - a)))*(sin(sqrt(1 - 0.04 * a ** 3)) - a)\n",
        "        if (sin(sqrt(1 - 0.04 * a ** 3)) - a)*((sin(sqrt(1 - 0.04 * c ** 3)) - c)) > 0:\n",
        "            a = c\n",
        "            return horda(a,b,e)\n",
        "        else:\n",
        "            b = c\n",
        "            return horda(a,b,e)\n",
        "    else:\n",
        "        x = (a + b) / 2\n",
        "        print((x))\n",
        "        print(sin(sqrt(1 - 0.04 * x ** 3)) - x)\n",
        "horda(0,1,0.01)"
      ],
      "metadata": {
        "colab": {
          "base_uri": "https://localhost:8080/"
        },
        "id": "DXj1Pr_OYWOH",
        "outputId": "1d222c6c-541c-42a4-f832-0247dc0329c8"
      },
      "execution_count": 7,
      "outputs": [
        {
          "output_type": "stream",
          "name": "stdout",
          "text": [
            "0.8350833211621804\n",
            "4.884981308350689e-15\n"
          ]
        }
      ]
    },
    {
      "cell_type": "code",
      "source": [
        "x_cords = range(-3,3)\n",
        "y_cords = [sin(sqrt(1 - 0.04 * x ** 3)) - x for x in x_cords]\n",
        "\n",
        "plt.plot(x_cords, y_cords)\n",
        "plt.show()"
      ],
      "metadata": {
        "colab": {
          "base_uri": "https://localhost:8080/",
          "height": 265
        },
        "id": "r_zwmweHYWTE",
        "outputId": "a1752961-5eed-457a-b844-cd47ac4cea4f"
      },
      "execution_count": 14,
      "outputs": [
        {
          "output_type": "display_data",
          "data": {
            "image/png": "[encoded data removed]",
            "text/plain": [
              "<Figure size 432x288 with 1 Axes>"
            ]
          },
          "metadata": {
            "needs_background": "light"
          }
        }
      ]
    }
  ],
  "metadata": {
    "colab": {
      "name": "Math1.ipynb",
      "provenance": [],
      "collapsed_sections": [],
      "authorship_tag": "ABX9TyMBKi0JlRe025UTQHExki1F",
      "include_colab_link": true
    },
    "kernelspec": {
      "display_name": "Python 3",
      "name": "python3"
    },
    "language_info": {
      "name": "python"
    }
  },
  "nbformat": 4,
  "nbformat_minor": 0
}