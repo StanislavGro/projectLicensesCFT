{
  "nbformat": 4,
  "nbformat_minor": 0,
  "metadata": {
    "colab": {
      "name": "Math1.ipynb",
      "provenance": [],
      "authorship_tag": "ABX9TyPdCOojCmIrvn036gM9if/l",
      "include_colab_link": true
    },
    "kernelspec": {
      "name": "python3",
      "display_name": "Python 3"
    },
    "language_info": {
      "name": "python"
    }
  },
  "cells": [
    {
      "cell_type": "markdown",
      "metadata": {
        "id": "view-in-github",
        "colab_type": "text"
      },
      "source": [
        "<a href=\"https://colab.research.google.com/github/StanislavGro/projectLicensesCFT/blob/main/Math1.ipynb\" target=\"_parent\"><img src=\"https://colab.research.google.com/assets/colab-badge.svg\" alt=\"Open In Colab\"/></a>"
      ]
    },
    {
      "cell_type": "code",
      "execution_count": 4,
      "metadata": {
        "id": "2UAiVJAD_JOo",
        "colab": {
          "base_uri": "https://localhost:8080/"
        },
        "outputId": "d051b163-43af-40f9-9a3b-fcd197e31782"
      },
      "outputs": [
        {
          "output_type": "stream",
          "name": "stdout",
          "text": [
            "0.8350833211621804\n",
            "4.884981308350689e-15\n"
          ]
        }
      ],
      "source": [
        "from math import *  \n",
        "def horda(a,b, e):\n",
        "    if abs(b - a) > e:\n",
        "        c = a - ((b-a) / (sin(sqrt(1 - 0.04 * b ** 3)) - b -(sin(sqrt(1 - 0.04 * a ** 3)) - a)))*(sin(sqrt(1 - 0.04 * a ** 3)) - a)\n",
        "        if (sin(sqrt(1 - 0.04 * a ** 3)) - a)*((sin(sqrt(1 - 0.04 * c ** 3)) - c)) > 0:\n",
        "            a = c\n",
        "            return horda(a,b,e)\n",
        "        else:\n",
        "            b = c\n",
        "            return horda(a,b,e)\n",
        "    else:\n",
        "        x = (a + b) / 2\n",
        "        print((x))\n",
        "        print(sin(sqrt(1 - 0.04 * x ** 3)) - x)\n",
        "horda(0,1,0.01)\n",
        "\n"
      ]
    },
    {
      "cell_type": "code",
      "source": [
        "import matplotlib.pyplot as plt"
      ],
      "metadata": {
        "id": "Irsh6zJBAtJ7"
      },
      "execution_count": null,
      "outputs": []
    },
    {
      "cell_type": "code",
      "source": [
        ""
      ],
      "metadata": {
        "id": "Tkb3x9fgOvxi"
      },
      "execution_count": null,
      "outputs": []
    }
  ]
}